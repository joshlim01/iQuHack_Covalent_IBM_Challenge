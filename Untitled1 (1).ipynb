{
 "cells": [
  {
   "cell_type": "code",
   "execution_count": 21,
   "id": "2bfbaa2c-8738-4b75-ad4b-034ba15dd9d7",
   "metadata": {},
   "outputs": [
    {
     "name": "stderr",
     "output_type": "stream",
     "text": [
      "ibmqfactory.load_account:WARNING:2023-01-29 04:00:32,785: Credentials are already in use. The existing account in the session will be replaced.\n"
     ]
    }
   ],
   "source": [
    "import numpy as np\n",
    "\n",
    "# Importing standard Qiskit libraries\n",
    "import qiskit\n",
    "from qiskit import QuantumCircuit, transpile, Aer, IBMQ\n",
    "from qiskit.tools.jupyter import *\n",
    "from qiskit.visualization import *\n",
    "from ibm_quantum_widgets import *\n",
    "from qiskit.providers.aer import QasmSimulator\n",
    "\n",
    "#import files\n",
    "import matplotlib.pyplot as plt\n",
    "import numpy as np\n",
    "import time\n",
    "\n",
    "aer_sim = qiskit.Aer.get_backend('aer_simulator')\n",
    "# Loading your IBM Quantum account(s)\n",
    "provider = IBMQ.load_account()\n"
   ]
  },
  {
   "cell_type": "code",
   "execution_count": 22,
   "id": "a05b4664-1876-4ad9-ae12-cf56b1560072",
   "metadata": {},
   "outputs": [
    {
     "name": "stdout",
     "output_type": "stream",
     "text": [
      "Random bitstring with seed:\t 1010111101010100001000110011001001100110110001000011110101000110001101101110101011111111011101111111010011110100111101000010111001000011110111001100010101110110011100000000001000110011110010001111101011001110100111100101101011101001110111110010110001010011111110001101111001000001001101001000111001000010000111101100001011110000110100001001111011100111001111100010010000110001100100001011001010011111011000000010000111100010110110000101011100110000110111001111111011010101100100111010010010100011111001111000100001100000100011011010111000000111110000010011011010100110100010010000100010001100111010000000010100001100111010001011011000011100000010100100010100001000111001101011101100101011001001000111010001001010000101010100110011111010100010110010111100011111000010110101001000111010111101010110100000101001001000111010010100100001101011101000111010111010001011001011100110100010110100111100011101111000110001001111001111011010100010111110110111010000010111001100110011001110010100011011001011111101\n",
      "Random bitstring with same seed: 1010111101010100001000110011001001100110110001000011110101000110001101101110101011111111011101111111010011110100111101000010111001000011110111001100010101110110011100000000001000110011110010001111101011001110100111100101101011101001110111110010110001010011111110001101111001000001001101001000111001000010000111101100001011110000110100001001111011100111001111100010010000110001100100001011001010011111011000000010000111100010110110000101011100110000110111001111111011010101100100111010010010100011111001111000100001100000100011011010111000000111110000010011011010100110100010010000100010001100111010000000010100001100111010001011011000011100000010100100010100001000111001101011101100101011001001000111010001001010000101010100110011111010100010110010111100011111000010110101001000111010111101010110100000101001001000111010010100100001101011101000111010111010001011001011100110100010110100111100011101111000110001001111001111011010100010111110110111010000010111001100110011001110010100011011001011111101\n",
      "Random bitstring with new seed:\t 1100011100100001111001011001011000110110110010100100000101011101100110011001010001101001011010100111111000000000001010011101000111010000001011000011001001100111000100010011001011110101101001101000010011100101101101011111000011111011111111100111110110111000111011111111100100101110000000111000111100001011111001011011111000011101111000000100010100011110110101001110100001110000100110001010001011110100010011110001011100110011000110001001000111110100001101110110001001001110000000011101101000100100000000101101110001010111100110111101001000111001110111101101110101110110001100010100000111101111010101111011001001010001100010101011110110000011111110011010101010001001001111010011100111010010111010101000000100111000100100111000100001001001101001000101111010100000110000100001111001001110111000101010110001000010110101010010101100111100010010101110000111011100101001011101111101111000000011010001101001011000010000011111110001110100100111001000001100111110110011011011111101101110100110010000110110110110\n"
     ]
    }
   ],
   "source": [
    "# set seed number (can be anything)\n",
    "seed = 7\n",
    "\n",
    "# generate sequence of random bits using seed\n",
    "np.random.seed(seed)\n",
    "random_bits_1 = \"\".join([str(i) for i in np.random.randint(0,2,1000)])\n",
    "\n",
    "# reseed to same number and generate new sequence of random bits\n",
    "np.random.seed(seed)\n",
    "random_bits_2 = \"\".join([str(i) for i in np.random.randint(0,2,1000)])\n",
    "\n",
    "# after printing, we see the bit-strings are the same\n",
    "print(\"Random bitstring with seed:\\t\", random_bits_1)\n",
    "print(\"Random bitstring with same seed:\", random_bits_2)\n",
    "\n",
    "# reseed with different seed and generate different random bit-string\n",
    "np.random.seed()\n",
    "random_bits_3 = \"\".join([str(i) for i in np.random.randint(0,2,1000)])\n",
    "print(\"Random bitstring with new seed:\\t\", random_bits_3)"
   ]
  },
  {
   "cell_type": "code",
   "execution_count": 25,
   "id": "1256be42-fe51-4384-946f-c5b90ef86c9b",
   "metadata": {},
   "outputs": [
    {
     "data": {
      "image/png": "[encoded data removed]",
      "text/plain": [
       "<Figure size 193.726x144.48 with 1 Axes>"
      ]
     },
     "execution_count": 25,
     "metadata": {},
     "output_type": "execute_result"
    }
   ],
   "source": [
    "def Circuit():\n",
    "    \n",
    "    \"Create quantum circuit for random number gen\"\n",
    "    qc = QuantumCircuit(1,1)\n",
    "    qc.h(0)\n",
    "    qc.measure(0,0)\n",
    "    return qc\n",
    "     \n",
    "\n",
    "# print out quantum circuit\n",
    "circuit = Circuit()\n",
    "circuit.draw()\n",
    "     "
   ]
  },
  {
   "cell_type": "code",
   "execution_count": 26,
   "id": "d0f82d30-92ca-4b7a-8509-2e2ddc60ef88",
   "metadata": {},
   "outputs": [
    {
     "data": {
      "image/png": "[encoded data removed]",
      "text/plain": [
       "<Figure size 504x360 with 1 Axes>"
      ]
     },
     "execution_count": 26,
     "metadata": {},
     "output_type": "execute_result"
    }
   ],
   "source": [
    "# display distribution of 0 / 1\n",
    "result = aer_sim.run(circuit).result()\n",
    "counts = result.get_counts()\n",
    "qiskit.visualization.plot_histogram(counts)"
   ]
  },
  {
   "cell_type": "code",
   "execution_count": 24,
   "id": "e591e691-3f00-4409-a1f8-0cc58f7f9338",
   "metadata": {},
   "outputs": [
    {
     "name": "stdout",
     "output_type": "stream",
     "text": [
      "random values for quantum:\t 0001010110001110011001100010011101011110111011010111100001101001100000000001001110001100001111000110\n"
     ]
    }
   ],
   "source": [
    "def RandomGenerator(random_bits_length):\n",
    "    \n",
    "    # initialize empty circuit\n",
    "    random_ = ''\n",
    "    total_count = 0\n",
    "    ones = 0\n",
    "    zeros = 0\n",
    "    \n",
    "    Thecircuit = Circuit()\n",
    "\n",
    "    # loop for random_bits\n",
    "    while len(random_) < random_bits_length:\n",
    "        total_count += 1\n",
    "\n",
    "        # run simulation of quantum and store values\n",
    "        job_result = aer_sim.run(Thecircuit, shots=1).result()\n",
    "        result_keys = job_result.get_counts().keys()\n",
    "        result_int = int(list(result_keys)[0])\n",
    "\n",
    "        # increment values while adding in string\n",
    "        if result_int == 1:\n",
    "            ones += 1\n",
    "        else:\n",
    "            zeros += 1\n",
    "        random_ += str(result_int)\n",
    "\n",
    "    return random_, ones, zeros\n",
    "     \n",
    "\n",
    "print(\"random values for quantum:\\t\", RandomGenerator(100)[0])"
   ]
  }
 ],
 "metadata": {
  "kernelspec": {
   "display_name": "Python 3 (ipykernel)",
   "language": "python",
   "name": "python3"
  },
  "language_info": {
   "codemirror_mode": {
    "name": "ipython",
    "version": 3
   },
   "file_extension": ".py",
   "mimetype": "text/x-python",
   "name": "python",
   "nbconvert_exporter": "python",
   "pygments_lexer": "ipython3",
   "version": "3.8.13"
  },
  "widgets": {
   "application/vnd.jupyter.widget-state+json": {
    "state": {
     "02f66b94831040a78b63a7cd31506661": {
      "model_module": "@jupyter-widgets/controls",
      "model_module_version": "1.5.0",
      "model_name": "DescriptionStyleModel",
      "state": {
       "description_width": ""
      }
     },
     "05c6e55f97ae4672824b521fe45e1d1c": {
      "model_module": "@jupyter-widgets/controls",
      "model_module_version": "1.5.0",
      "model_name": "HTMLModel",
      "state": {
       "layout": "IPY_MODEL_69bf609037b14a548e5673ae13d9f7c9",
       "style": "IPY_MODEL_f227881f2a044256ba740b0f10a7e5dc",
       "value": "<h5>Message</h5>"
      }
     },
     "152cff6dba794b9486138c52fb2f246b": {
      "model_module": "@jupyter-widgets/controls",
      "model_module_version": "1.5.0",
      "model_name": "HTMLModel",
      "state": {
       "layout": "IPY_MODEL_3864111ecab54dca814d9ecd14d8f1a0",
       "style": "IPY_MODEL_02f66b94831040a78b63a7cd31506661",
       "value": "<h5>Status</h5>"
      }
     },
     "1accab5772544f58a78472dd65b4df3d": {
      "model_module": "@jupyter-widgets/controls",
      "model_module_version": "1.5.0",
      "model_name": "DescriptionStyleModel",
      "state": {
       "description_width": ""
      }
     },
     "21cc5dcb710a41a494e85c8f1e832807": {
      "model_module": "@jupyter-widgets/base",
      "model_module_version": "1.2.0",
      "model_name": "LayoutModel",
      "state": {
       "width": "145px"
      }
     },
     "3864111ecab54dca814d9ecd14d8f1a0": {
      "model_module": "@jupyter-widgets/base",
      "model_module_version": "1.2.0",
      "model_name": "LayoutModel",
      "state": {
       "width": "95px"
      }
     },
     "3a42a3b51e744258a6bf1e3597c64c74": {
      "model_module": "@jupyter-widgets/base",
      "model_module_version": "1.2.0",
      "model_name": "LayoutModel",
      "state": {
       "width": "70px"
      }
     },
     "3a53b9723a9e4f8b84e039b8fd034ca3": {
      "model_module": "@jupyter-widgets/base",
      "model_module_version": "1.2.0",
      "model_name": "LayoutModel",
      "state": {
       "grid_area": "right",
       "padding": "0px 0px 0px 0px",
       "width": "70px"
      }
     },
     "4f5db0526ff946c9bf2e85bacc4bbff0": {
      "model_module": "@jupyter-widgets/base",
      "model_module_version": "1.2.0",
      "model_name": "LayoutModel",
      "state": {
       "margin": "0px 0px 0px 37px",
       "width": "600px"
      }
     },
     "4fa5e0199266451490eafa1eccbf9368": {
      "model_module": "@jupyter-widgets/controls",
      "model_module_version": "1.5.0",
      "model_name": "HTMLModel",
      "state": {
       "layout": "IPY_MODEL_c29f395bd1684fc6b91bc9808f5bd517",
       "style": "IPY_MODEL_bb24f79654384e2cbd576cfcfc7919a4",
       "value": "<h5>Job ID</h5>"
      }
     },
     "54298c88ccdc4956bc968eff9d977ecc": {
      "model_module": "@jupyter-widgets/controls",
      "model_module_version": "1.5.0",
      "model_name": "DescriptionStyleModel",
      "state": {
       "description_width": ""
      }
     },
     "69bf609037b14a548e5673ae13d9f7c9": {
      "model_module": "@jupyter-widgets/base",
      "model_module_version": "1.2.0",
      "model_name": "LayoutModel",
      "state": {}
     },
     "757104de1a694e54b11cd7803278f4bd": {
      "model_module": "@jupyter-widgets/controls",
      "model_module_version": "1.5.0",
      "model_name": "GridBoxModel",
      "state": {
       "children": [
        "IPY_MODEL_dd156ef9cb134c43be7bf8b5119bf72e"
       ],
       "layout": "IPY_MODEL_faeece9ab52c47fbb4d9992310676def"
      }
     },
     "75f9265780af44ee90af55d39cce7c13": {
      "model_module": "@jupyter-widgets/controls",
      "model_module_version": "1.5.0",
      "model_name": "ButtonStyleModel",
      "state": {}
     },
     "9095328334be496e87fd296ad7b46fc8": {
      "model_module": "@jupyter-widgets/controls",
      "model_module_version": "1.5.0",
      "model_name": "HBoxModel",
      "state": {
       "children": [
        "IPY_MODEL_4fa5e0199266451490eafa1eccbf9368",
        "IPY_MODEL_cb06b4aff0b644f199766dfc7d0dd0e9",
        "IPY_MODEL_152cff6dba794b9486138c52fb2f246b",
        "IPY_MODEL_98a06ab322fd4e179921a90cbe1c6e9d",
        "IPY_MODEL_05c6e55f97ae4672824b521fe45e1d1c"
       ],
       "layout": "IPY_MODEL_4f5db0526ff946c9bf2e85bacc4bbff0"
      }
     },
     "98a06ab322fd4e179921a90cbe1c6e9d": {
      "model_module": "@jupyter-widgets/controls",
      "model_module_version": "1.5.0",
      "model_name": "HTMLModel",
      "state": {
       "layout": "IPY_MODEL_3a42a3b51e744258a6bf1e3597c64c74",
       "style": "IPY_MODEL_54298c88ccdc4956bc968eff9d977ecc",
       "value": "<h5>Queue</h5>"
      }
     },
     "bae014fa73c944efa9dcfeb8848edf5e": {
      "model_module": "@jupyter-widgets/controls",
      "model_module_version": "1.5.0",
      "model_name": "DescriptionStyleModel",
      "state": {
       "description_width": ""
      }
     },
     "bb24f79654384e2cbd576cfcfc7919a4": {
      "model_module": "@jupyter-widgets/controls",
      "model_module_version": "1.5.0",
      "model_name": "DescriptionStyleModel",
      "state": {
       "description_width": ""
      }
     },
     "c29f395bd1684fc6b91bc9808f5bd517": {
      "model_module": "@jupyter-widgets/base",
      "model_module_version": "1.2.0",
      "model_name": "LayoutModel",
      "state": {
       "width": "190px"
      }
     },
     "cb06b4aff0b644f199766dfc7d0dd0e9": {
      "model_module": "@jupyter-widgets/controls",
      "model_module_version": "1.5.0",
      "model_name": "HTMLModel",
      "state": {
       "layout": "IPY_MODEL_21cc5dcb710a41a494e85c8f1e832807",
       "style": "IPY_MODEL_bae014fa73c944efa9dcfeb8848edf5e",
       "value": "<h5>Backend</h5>"
      }
     },
     "dd156ef9cb134c43be7bf8b5119bf72e": {
      "model_module": "@jupyter-widgets/controls",
      "model_module_version": "1.5.0",
      "model_name": "ButtonModel",
      "state": {
       "button_style": "primary",
       "description": "Clear",
       "layout": "IPY_MODEL_3a53b9723a9e4f8b84e039b8fd034ca3",
       "style": "IPY_MODEL_75f9265780af44ee90af55d39cce7c13"
      }
     },
     "e51d9a31b749402980cd2653b7aa9369": {
      "model_module": "@jupyter-widgets/controls",
      "model_module_version": "1.5.0",
      "model_name": "HTMLModel",
      "state": {
       "layout": "IPY_MODEL_eb5675ea1a5e46f1969a435c6261fd2d",
       "style": "IPY_MODEL_1accab5772544f58a78472dd65b4df3d",
       "value": "<p style='font-family: IBM Plex Sans, Arial, Helvetica, sans-serif; font-size: 20px; font-weight: medium;'>Circuit Properties</p>"
      }
     },
     "eb5675ea1a5e46f1969a435c6261fd2d": {
      "model_module": "@jupyter-widgets/base",
      "model_module_version": "1.2.0",
      "model_name": "LayoutModel",
      "state": {
       "margin": "0px 0px 10px 0px"
      }
     },
     "f227881f2a044256ba740b0f10a7e5dc": {
      "model_module": "@jupyter-widgets/controls",
      "model_module_version": "1.5.0",
      "model_name": "DescriptionStyleModel",
      "state": {
       "description_width": ""
      }
     },
     "faeece9ab52c47fbb4d9992310676def": {
      "model_module": "@jupyter-widgets/base",
      "model_module_version": "1.2.0",
      "model_name": "LayoutModel",
      "state": {
       "grid_template_areas": "\n                                       \". . . . right \"\n                                        ",
       "grid_template_columns": "20% 20% 20% 20% 20%",
       "width": "100%"
      }
     }
    },
    "version_major": 2,
    "version_minor": 0
   }
  }
 },
 "nbformat": 4,
 "nbformat_minor": 5
}
